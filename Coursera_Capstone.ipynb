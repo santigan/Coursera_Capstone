{
    "cells": [
        {
            "cell_type": "markdown",
            "metadata": {
                "collapsed": true
            },
            "source": "# Coursera IBM Data Science Capstone - Opening a new McDonald\u00b4s franchise in CABA, Argentina"
        },
        {
            "cell_type": "markdown",
            "metadata": {},
            "source": "## Business Problem"
        },
        {
            "cell_type": "markdown",
            "metadata": {},
            "source": "As we all know, McDonald\u00b4s is a fast food restaurant all over the world that work\u00b4s with a franchise business model. When someone want\u00b4s to open a new franchise it\u00b4s often difficult to define where's the best place to locate it. The reason of this is due to the market saturation with not only McDonald's but also with other fast food restaurant's like BurgerKing, Wendy's, KFC, Mostaza and others.\n\nSo, for my final Capstone, i\u00b4m going to analize in witch neighborhood in \"Ciudad de Buenos Aires (CABA), Argentina\" it\u00b4s the best place to locate a new McDonald\u00b4s using the clustering algorithm. This project could be usefull to anyone interested in opening a McDonald's or any fast food restaurant in CABA."
        },
        {
            "cell_type": "markdown",
            "metadata": {},
            "source": "## Data"
        },
        {
            "cell_type": "markdown",
            "metadata": {},
            "source": "In order to solve this problem i'm going to use a wikipedia page containing all the CABA neighborhood's (https://es.wikipedia.org/wiki/Anexo:Barrios_de_la_ciudad_de_Buenos_Aires).\n\nThen im going to use the geopy library in order to get the coordinates.\n\nFinally i'm going to use the Foursquare API to search for the fast food venues in those neighborhoods and cluster them using the k-means algorithm.  "
        },
        {
            "cell_type": "code",
            "execution_count": null,
            "metadata": {},
            "outputs": [],
            "source": ""
        }
    ],
    "metadata": {
        "kernelspec": {
            "display_name": "Python 3.6",
            "language": "python",
            "name": "python3"
        },
        "language_info": {
            "codemirror_mode": {
                "name": "ipython",
                "version": 3
            },
            "file_extension": ".py",
            "mimetype": "text/x-python",
            "name": "python",
            "nbconvert_exporter": "python",
            "pygments_lexer": "ipython3",
            "version": "3.6.9"
        }
    },
    "nbformat": 4,
    "nbformat_minor": 1
}